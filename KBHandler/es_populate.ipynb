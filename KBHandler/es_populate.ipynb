{
 "cells": [
  {
   "cell_type": "code",
   "execution_count": 3,
   "metadata": {},
   "outputs": [
    {
     "name": "stderr",
     "output_type": "stream",
     "text": [
      "d:\\Data Science Projects\\BERT-Covid-QA-NLP-Project\\venv\\lib\\site-packages\\elasticsearch\\connection\\base.py:190: ElasticsearchDeprecationWarning: Elasticsearch built-in security features are not enabled. Without authentication, your cluster could be accessible to anyone. See https://www.elastic.co/guide/en/elasticsearch/reference/7.14/security-minimal-setup.html to enable security.\n",
      "  warnings.warn(message, category=ElasticsearchDeprecationWarning)\n",
      "07/12/2023 18:14:43 - INFO - elasticsearch -   HEAD http://localhost:9200/ [status:200 request:0.101s]\n",
      "07/12/2023 18:14:43 - INFO - elasticsearch -   HEAD http://localhost:9200/document [status:200 request:0.013s]\n",
      "07/12/2023 18:14:43 - INFO - elasticsearch -   GET http://localhost:9200/document [status:200 request:0.009s]\n",
      "07/12/2023 18:14:44 - INFO - elasticsearch -   PUT http://localhost:9200/document/_mapping [status:200 request:0.214s]\n",
      "07/12/2023 18:14:44 - INFO - elasticsearch -   HEAD http://localhost:9200/label [status:200 request:0.006s]\n"
     ]
    }
   ],
   "source": [
    "import pandas as pd\n",
    "import numpy as np\n",
    "from haystack.document_store.elasticsearch import ElasticsearchDocumentStore\n",
    "document_store = ElasticsearchDocumentStore()"
   ]
  },
  {
   "cell_type": "code",
   "execution_count": 4,
   "metadata": {},
   "outputs": [
    {
     "data": {
      "text/html": [
       "<div>\n",
       "<style scoped>\n",
       "    .dataframe tbody tr th:only-of-type {\n",
       "        vertical-align: middle;\n",
       "    }\n",
       "\n",
       "    .dataframe tbody tr th {\n",
       "        vertical-align: top;\n",
       "    }\n",
       "\n",
       "    .dataframe thead th {\n",
       "        text-align: right;\n",
       "    }\n",
       "</style>\n",
       "<table border=\"1\" class=\"dataframe\">\n",
       "  <thead>\n",
       "    <tr style=\"text-align: right;\">\n",
       "      <th></th>\n",
       "      <th>sha</th>\n",
       "      <th>title</th>\n",
       "      <th>abstract</th>\n",
       "      <th>publish_time</th>\n",
       "      <th>authors</th>\n",
       "      <th>url</th>\n",
       "      <th>body_text</th>\n",
       "    </tr>\n",
       "  </thead>\n",
       "  <tbody>\n",
       "    <tr>\n",
       "      <th>0</th>\n",
       "      <td>2bb334f0f0a1d1c95ec008df424a240c2f7d7418</td>\n",
       "      <td>Projections and early-warning signals of a sec...</td>\n",
       "      <td>We present two different scenarios for a secon...</td>\n",
       "      <td>2020-07-07</td>\n",
       "      <td>Weiner, Z.; Wong, G.; Elbanna, A.; Tkachenko, ...</td>\n",
       "      <td>https://doi.org/10.1101/2020.07.06.20147868; h...</td>\n",
       "      <td>A number of regions within the United States a...</td>\n",
       "    </tr>\n",
       "    <tr>\n",
       "      <th>1</th>\n",
       "      <td>2bf64a4c4277515f803e7f9ded51954a11ed6494</td>\n",
       "      <td>H1N1, public health security, bioethics, and h...</td>\n",
       "      <td>NaN</td>\n",
       "      <td>2009-06-18</td>\n",
       "      <td>Tarantola, D; Amon, J; Zwi, A; Gruskin, S; Gos...</td>\n",
       "      <td>https://www.sciencedirect.com/science/article/...</td>\n",
       "      <td>Your Editorial (May 9, p 1578) 1 is critical o...</td>\n",
       "    </tr>\n",
       "    <tr>\n",
       "      <th>2</th>\n",
       "      <td>29a793e465b6cbfd5f90bb07e30837d2b83072f4</td>\n",
       "      <td>The Unmet Needs in Atopic Dermatitis Control i...</td>\n",
       "      <td>INTRODUCTION: Adoption of control tools for at...</td>\n",
       "      <td>2021-08-27</td>\n",
       "      <td>Sanchez, Jorge; Cherrez-Ojeda, Ivan; Galvan, C...</td>\n",
       "      <td>https://doi.org/10.1007/s13555-021-00595-9; ht...</td>\n",
       "      <td>Atopic dermatitis (AD) is a chronic, relapsing...</td>\n",
       "    </tr>\n",
       "    <tr>\n",
       "      <th>3</th>\n",
       "      <td>4e8cbb254d84091bc1737f77d0076709d83de9ad</td>\n",
       "      <td>Predictive value of C-reactive protein for the...</td>\n",
       "      <td>BACKGROUND: Fever is a common cause of pediatr...</td>\n",
       "      <td>2020-01-08</td>\n",
       "      <td>Lee, Tae Gyoung; Yu, Seung Taek; So, Cheol Hwan</td>\n",
       "      <td>https://www.ncbi.nlm.nih.gov/pubmed/31914719/;...</td>\n",
       "      <td>Fever is a common cause of patient visits in p...</td>\n",
       "    </tr>\n",
       "    <tr>\n",
       "      <th>4</th>\n",
       "      <td>0eb19d1601c54c9662702ce939a41d44fdb2790f</td>\n",
       "      <td>Leading change during the convergence of an ep...</td>\n",
       "      <td>NaN</td>\n",
       "      <td>2020-09-30</td>\n",
       "      <td>Oerther, Sarah; Oerther, Daniel B.</td>\n",
       "      <td>https://www.ncbi.nlm.nih.gov/pubmed/32996624/;...</td>\n",
       "      <td>As the first wave of COVID-19 cases spread aro...</td>\n",
       "    </tr>\n",
       "  </tbody>\n",
       "</table>\n",
       "</div>"
      ],
      "text/plain": [
       "                                        sha  \\\n",
       "0  2bb334f0f0a1d1c95ec008df424a240c2f7d7418   \n",
       "1  2bf64a4c4277515f803e7f9ded51954a11ed6494   \n",
       "2  29a793e465b6cbfd5f90bb07e30837d2b83072f4   \n",
       "3  4e8cbb254d84091bc1737f77d0076709d83de9ad   \n",
       "4  0eb19d1601c54c9662702ce939a41d44fdb2790f   \n",
       "\n",
       "                                               title  \\\n",
       "0  Projections and early-warning signals of a sec...   \n",
       "1  H1N1, public health security, bioethics, and h...   \n",
       "2  The Unmet Needs in Atopic Dermatitis Control i...   \n",
       "3  Predictive value of C-reactive protein for the...   \n",
       "4  Leading change during the convergence of an ep...   \n",
       "\n",
       "                                            abstract publish_time  \\\n",
       "0  We present two different scenarios for a secon...   2020-07-07   \n",
       "1                                                NaN   2009-06-18   \n",
       "2  INTRODUCTION: Adoption of control tools for at...   2021-08-27   \n",
       "3  BACKGROUND: Fever is a common cause of pediatr...   2020-01-08   \n",
       "4                                                NaN   2020-09-30   \n",
       "\n",
       "                                             authors  \\\n",
       "0  Weiner, Z.; Wong, G.; Elbanna, A.; Tkachenko, ...   \n",
       "1  Tarantola, D; Amon, J; Zwi, A; Gruskin, S; Gos...   \n",
       "2  Sanchez, Jorge; Cherrez-Ojeda, Ivan; Galvan, C...   \n",
       "3    Lee, Tae Gyoung; Yu, Seung Taek; So, Cheol Hwan   \n",
       "4                 Oerther, Sarah; Oerther, Daniel B.   \n",
       "\n",
       "                                                 url  \\\n",
       "0  https://doi.org/10.1101/2020.07.06.20147868; h...   \n",
       "1  https://www.sciencedirect.com/science/article/...   \n",
       "2  https://doi.org/10.1007/s13555-021-00595-9; ht...   \n",
       "3  https://www.ncbi.nlm.nih.gov/pubmed/31914719/;...   \n",
       "4  https://www.ncbi.nlm.nih.gov/pubmed/32996624/;...   \n",
       "\n",
       "                                           body_text  \n",
       "0  A number of regions within the United States a...  \n",
       "1  Your Editorial (May 9, p 1578) 1 is critical o...  \n",
       "2  Atopic dermatitis (AD) is a chronic, relapsing...  \n",
       "3  Fever is a common cause of patient visits in p...  \n",
       "4  As the first wave of COVID-19 cases spread aro...  "
      ]
     },
     "execution_count": 4,
     "metadata": {},
     "output_type": "execute_result"
    }
   ],
   "source": [
    "df=pd.read_csv('../notebooks/data/FINAL_CORD_DATA.csv')\n",
    "df.head()"
   ]
  },
  {
   "cell_type": "code",
   "execution_count": 5,
   "metadata": {},
   "outputs": [
    {
     "data": {
      "text/plain": [
       "sha               0\n",
       "title             0\n",
       "abstract        867\n",
       "publish_time      0\n",
       "authors          62\n",
       "url               0\n",
       "body_text         0\n",
       "dtype: int64"
      ]
     },
     "execution_count": 5,
     "metadata": {},
     "output_type": "execute_result"
    }
   ],
   "source": [
    "df.isna().sum()"
   ]
  },
  {
   "cell_type": "code",
   "execution_count": 6,
   "metadata": {},
   "outputs": [],
   "source": [
    "df = df.dropna(axis=0, subset=['abstract', 'authors'])"
   ]
  },
  {
   "cell_type": "code",
   "execution_count": 7,
   "metadata": {},
   "outputs": [
    {
     "data": {
      "text/plain": [
       "sha             0\n",
       "title           0\n",
       "abstract        0\n",
       "publish_time    0\n",
       "authors         0\n",
       "url             0\n",
       "body_text       0\n",
       "dtype: int64"
      ]
     },
     "execution_count": 7,
     "metadata": {},
     "output_type": "execute_result"
    }
   ],
   "source": [
    "df.isna().sum()"
   ]
  },
  {
   "cell_type": "code",
   "execution_count": 8,
   "metadata": {},
   "outputs": [],
   "source": [
    "## coverting it to a dictionary\n",
    "df_dict=df.to_dict('records')"
   ]
  },
  {
   "cell_type": "code",
   "execution_count": 9,
   "metadata": {},
   "outputs": [
    {
     "data": {
      "text/plain": [
       "{'sha': '2bb334f0f0a1d1c95ec008df424a240c2f7d7418',\n",
       " 'title': 'Projections and early-warning signals of a second wave of the COVID-19 epidemic in Illinois',\n",
       " 'abstract': 'We present two different scenarios for a second wave of the COVID-19 epidemic in Illinois and simulate them using our previously described age-of-infection model, calibrated to real-time hospital and deaths data. In the first scenario we assume that the parameters of the second wave in Illinois would be similar to those currently observed in other states such as Arizona, Florida, and Texas. We estimate doubling times of hospitalizations and test positivity in all states with relevant publicly available data and calculate the corresponding effective reproduction numbers for Illinois. These parameters are remarkably consistent in states with rapidly growing epidemics. We conjecture that the emergence of the second wave of the epidemic in these states can be attributed to superspreading events at large parties, crowded bars, and indoor dining. In our second, more optimistic scenario we assume changes in Illinois state policy would result in successful mitigation of superspreading events and thus would lower the effective reproduction number to the value observed in late June 2020. In this case our calculations show effective suppression of the second wave in Illinois. Our analysis also suggests that the logarithmic time derivatives of COVID-19 hospitalizations and case positivity can serve as a simple but strong early-warning signal of the onset of a second wave.',\n",
       " 'publish_time': '2020-07-07',\n",
       " 'authors': 'Weiner, Z.; Wong, G.; Elbanna, A.; Tkachenko, A.; Maslov, S.; Goldenfeld, N.',\n",
       " 'url': 'https://doi.org/10.1101/2020.07.06.20147868; http://medrxiv.org/cgi/content/short/2020.07.06.20147868v1?rss=1',\n",
       " 'body_text': 'A number of regions within the United States are currently experiencing second waves following their reopenings. We consider whether or not the transition to Restore Illinois Phase 4 1 will lead to a second wave, and if so, how bad will it be. While there is anecdotal evidence that the second waves are in part caused by people failing to social distance in bars, at parties, etc., it is not easy to relate these social distancing failures to parameters in complicated epidemiological models. It is thus challenging to construct a reliable and actionable prediction for the state of Illinois.$$To circumvent this difficulty, we use fits to the current exponential growth rates of epidemic dynamics in affected states to estimate the corresponding Phase 4 scenarios for Illinois. In lieu of performing computationally expensive calibration of detailed epidemiological models for these states (as we perform for Illinois), we carried out an approximate calculation of the doubling time of hospitalizations (i.e., the current number of hospital beds occupied by COVID-19 patients) and test positivity rates in Texas and Arizona and of the test positivity rate in Florida. The resulting estimates for Florida, Arizona, and Texas are remarkably consistent, with the percentage by which R t relaxes towards R 0 ranging between 22% and * maslov@illinois.edu † nigel@illinois.edu 1 The 5 phases of the Restore Illinois Project are described at [1] . Transition to Phase 4, which took place state-wide on June 26, 2020, is potentially especially dangerous since it involves opening up indoor seating in bars, restaurants, etc.-a major risk factor in spreading of COVID-19.$$31%. We then model scenarios for Phase 4 in Illinois designed to reproduced the currently-observed growth rates in these states (which have already relaxed social distancing strategies in line with those introduced by Illinois\\'s Phase 4), using our age-of-infection model of COVID-19 dynamics in Illinois [2] . We contrast the second wave exhibited by these results with an additional scenario in which Illinois subsequently reverts the policy changes enacted by Phase 4. As a preamble to our estimate, we point out that there is a suitable \"early-warning signal\" that the state of Illinois and other states could use to monitor the second wave: the rate of change of case positivity, which is arguably a leading indicator compared to hospitalization, ICU, and death data. The data in Figure 1 shows positivity rates for Arizona, Florida and Texas, with Illinois shown for comparison. Currently, the Illinois Department of Public Health (IDPH) sets a case positivity of 10% as a threshold for a warning level on a per-county basis. 2 This is not a good metric to use because it depends on an arbitrary value for the base level of case positivity. Arizona had a baseline level of about 8% before the second wave started, and so it quickly passed the 10% value. Florida and Texas, however, started at lower baseline levels and so the momentum of the second wave was clearly visible a week or so before they breached the 10% threshold. 2 The Illinois Department of Public Health [3] includes positivity rate below 10% as one of several targets that counties should strive to achieve. Exceeding this target rate along with at least one other target would elevate the epidemic risk rate in a county.$$. CC-BY-NC-ND 4.0 International license It is made available under a is the author/funder, who has granted medRxiv a license to display the preprint in perpetuity. (which was not certified by peer review)$$The copyright holder for this preprint this version posted July 7, 2020. Thus, action could have been taken earlier to prevent the situations in these states from getting out of control.$$The second wave across the US quantified by growth rates in hospitalizations and test positivity$$In Illinois, the early epidemic exhibited a basic reproduction number R 0 = 2.32 as estimated using our epidemiological model [2] . This corresponds to an exponential growth rate g(early in IL) = 0.272, i.e., a doubling time of ln(2)/0.272 = 2.5 days.$$Our age-of-infection model [2] assumes a Gammadistributed serial interval with a mean τ s = 4 days and a standard deviation σ s = 3.25 days. In this case the effective reproduction number R t is related to the exponential growth (or decay) rate g via$$where β = τ s /σ 2 s = 0.38 1/days and α = τ 2 s /σ 2 s = 1.5 are the rate and the shape parameters of the Gamma distribution of serial intervals (see Eq. 2.9 of Ref. [4] for a derivation).$$In$$is a mitigation multiplier accounting for the effects of nonpharmaceutical intervention like social distancing, and S(t) is the fraction of susceptible population at time t. We assume that the transition to Phase 4 results in partial relaxation of M (t) toward unity (which would correspond to a completely unmitigated epidemic). Our simulations predict that by the time of transition to Phase 4 the susceptible fraction of Illinois\\'s population was around S(Phase 3) = 0.91. That is, by the beginning of Phase 4 roughly 9% of the population have been infected by COVID-19; in our model we assume previously infected individuals remain immune for the duration of the simulation. We model the transition from Phase 3 to Phase 4 by increasing the mitigation factor from R t (Phase 3) = 0.92 to a higher value R t (Phase 4). On the other hand, a complete relaxation of the mitigation factor to 1 would increase R t from R t (Phase 3) = 0.92 all the way up to R 0 ·S(Phase 3). The extent of the relaxation of mitigation is quantified by the parameter E:$$Texas Figure 2 shows COVID-19 hospitalizations (purple) and the daily case positivity rate (green) in Texas between June 1 and June 28 as reported by the COVID Tracking Project [5] . Over the period from June 15 through June 28 hospitalizations in Texas have increased with an exponential growth rate g(TX) = 0.068 corresponding to a ln(2)/0.068 = 10.2 day doubling time.$$Applying Eq. 1 with g(TX) = 0.068 observed in the second wave in Texas, one obtains R t (Phase 4 in IL matching TX) = 1.28.$$For R t (Phase 4 matching TX) = 1.28, Eq. 2 gives the relaxation factor E(Phase 4 matching TX) = 31%.$$. CC-BY-NC-ND 4.0 International license It is made available under a is the author/funder, who has granted medRxiv a license to display the preprint in perpetuity.$$The copyright holder for this preprint this version posted July 7, 2020. $$Arizona shows somewhat slower exponential growth in hospitalizations between June 15 and June 28, 2020 (see Figure 3 ). The daily growth rate is g(AZ) = 0.045 (4.5%) corresponding to a doubling time of ln(2)/0.45 ≈ 15.4 days. In this case, Eq. 1 gives R t (Phase 4 matching AZ) = 1.19 corresponding to the E(Phase 4 matching AZ) = 22% (see Eq. 2).$$The growth rate of the test positivity in Arizona is similar to that of hospitalizations throughout most of the time window shown in Figure 3 except at the very end of the interval shown in Figure 3 , where it starts to flatten out.$$The COVID Tracking Project [5] does not have hospitalization data for Florida. To obtain an alternative estimate of recent exponential growth in Florida, we instead use its reported test positivity rate, which we find grows exponentially with daily growth rate g(FL) = 0.057 ( $$In Table I , we summarize the exponential growth (or decay) rates of hospitalizations (first column) and test positivity (last column) for all states for which the COVID Tracking Project [5] has relevant information. We report the slope of the linear regression to the logarithm of the corresponding variables (hospitalizations and the 7-day moving average of test positivity) over a two week period ending on June 28. The states are ranked in the order of decreasing hospitalization growth rates.$$We simulate two scenarios of a second wave of the COVID-19 epidemic in Illinois using the model described in [2] . We calibrate our model using data through June 28 on hospital and ICU room occupancy by COVID-19 patients, the number of daily deaths of COVID-19 confirmed patients in hospitals, and the total number of daily deaths as publicly reported by the IDPH [6]. The results are shown in Figure 5 . In the first scenario (shown in the top panel) we assume that the exponential growth during the second wave in Illinois would match the observed growth in other states that are currently experiencing a second wave. More specifically, we choose the relaxation factor E = 35% (to roughly match hospitalization growth rate in Texas). This choice is higher than the value E(TX) = 31% estimated using Eq. 2 to account for additional reduction in susceptible population fraction at the early phase of the second wave before hospitalizations start growing significantly. In this case, we confirmed that the exponential growth rate of hospitalizations (measured . CC-BY-NC-ND 4.0 International license It is made available under a is the author/funder, who has granted medRxiv a license to display the preprint in perpetuity.$$The copyright holder for this preprint this version posted July 7, 2020. . CC-BY-NC-ND 4.0 International license It is made available under a is the author/funder, who has granted medRxiv a license to display the preprint in perpetuity.$$The copyright holder for this preprint this version posted July 7, 2020. . https://doi.org/10.1101/2020.07.06.20147868 doi: medRxiv preprint between August 1 and August 15) in our forecast is approximately 6.7%, matching the current observed growth in Texas.$$In the second scenario we assume mitigation steps carried out by the state of Illinois would be successful in reverting the effective reproduction number to the Phase 3 value of 0.92. We model this reversal as a transition taking place between July 5 and July 10. While we are unable to predict what changes in state policies would be sufficient to make this happen, we conjecture that setting strict limits to large gathering, and closing bars and indoor dining would bring superspreading under control. Indeed, a growing consensus has emerged that COVID-19, like previous coronavirus epidemics, is spread through large, rare events known as super-spreaders, wherein 80% of the transmission arises from only 10-20% of the infected cases [7] [8] [9] [10] . These are driven by pre-or asymptomatic individuals [11] , and throughout the world have been associated with airborne transmission especially in indoor environments [12] such as bars and restaurants [8, 13, 14] . These environments are crowded and are often marked by people talking loudly and removing their masks in close proximity, and the average length of stay at these events may be an hour or more. As a result, there is a high probability of infection. Some studies [12] have shown that closed indoor environments can be around 20 times more conducive to spread of COVID-19 than open-air settings. Anecdotally, bars, indoor dining, and even unofficial large parties are occurring within Illinois and other states [15] and can cause businesses to close through multiple secondary infections [16] .$$The amplitude of the second wave in Illinois (triggered by the transition to Phase 4) that matches the exponential growth currently observed in Texas (relaxation of mitigation by E = 35% towards no-mitigation maximum) would significantly exceed the amplitude of the first wave. Both hospital and ICU room capacities statewide would likely be exceeded in the Fall of 2020. Conversely, under a scenario in which State-mandated mitigation of superspreader events reverts virus dynamics to Phase 3 (E = 0%), the second wave would be successfully prevented, and the hospital and ICU room capacities of the state would never be breached.'}"
      ]
     },
     "execution_count": 9,
     "metadata": {},
     "output_type": "execute_result"
    }
   ],
   "source": [
    "## get the first result \n",
    "df_dict[0]"
   ]
  },
  {
   "cell_type": "code",
   "execution_count": 10,
   "metadata": {},
   "outputs": [
    {
     "data": {
      "text/plain": [
       "\"\\n{\\n    'text':<Document Body>\\n    'meta': {key:value .......}\\n}\\n\\n\""
      ]
     },
     "execution_count": 10,
     "metadata": {},
     "output_type": "execute_result"
    }
   ],
   "source": [
    "\"\"\"\n",
    "{\n",
    "    'text':<Document Body>\n",
    "    'meta': {key:value .......}\n",
    "}\n",
    "\n",
    "\"\"\""
   ]
  },
  {
   "cell_type": "code",
   "execution_count": 11,
   "metadata": {},
   "outputs": [
    {
     "name": "stderr",
     "output_type": "stream",
     "text": [
      "d:\\Data Science Projects\\BERT-Covid-QA-NLP-Project\\venv\\lib\\site-packages\\elasticsearch\\connection\\base.py:190: ElasticsearchDeprecationWarning: Elasticsearch built-in security features are not enabled. Without authentication, your cluster could be accessible to anyone. See https://www.elastic.co/guide/en/elasticsearch/reference/7.14/security-minimal-setup.html to enable security.\n",
      "  warnings.warn(message, category=ElasticsearchDeprecationWarning)\n",
      "07/12/2023 18:15:28 - INFO - elasticsearch -   POST http://localhost:9200/_bulk?refresh=wait_for [status:200 request:0.849s]\n",
      "07/12/2023 18:15:29 - INFO - elasticsearch -   POST http://localhost:9200/_bulk?refresh=wait_for [status:200 request:1.112s]\n",
      "07/12/2023 18:15:30 - INFO - elasticsearch -   POST http://localhost:9200/_bulk?refresh=wait_for [status:200 request:1.096s]\n",
      "07/12/2023 18:15:31 - INFO - elasticsearch -   POST http://localhost:9200/_bulk?refresh=wait_for [status:200 request:1.129s]\n",
      "07/12/2023 18:15:32 - INFO - elasticsearch -   POST http://localhost:9200/_bulk?refresh=wait_for [status:200 request:1.081s]\n",
      "07/12/2023 18:15:33 - INFO - elasticsearch -   POST http://localhost:9200/_bulk?refresh=wait_for [status:200 request:1.075s]\n",
      "07/12/2023 18:15:34 - INFO - elasticsearch -   POST http://localhost:9200/_bulk?refresh=wait_for [status:200 request:1.050s]\n",
      "07/12/2023 18:15:36 - INFO - elasticsearch -   POST http://localhost:9200/_bulk?refresh=wait_for [status:200 request:1.082s]\n",
      "07/12/2023 18:15:37 - INFO - elasticsearch -   POST http://localhost:9200/_bulk?refresh=wait_for [status:200 request:1.061s]\n",
      "07/12/2023 18:15:38 - INFO - elasticsearch -   POST http://localhost:9200/_bulk?refresh=wait_for [status:200 request:1.070s]\n",
      "07/12/2023 18:15:39 - INFO - elasticsearch -   POST http://localhost:9200/_bulk?refresh=wait_for [status:200 request:1.080s]\n",
      "07/12/2023 18:15:40 - INFO - elasticsearch -   POST http://localhost:9200/_bulk?refresh=wait_for [status:200 request:1.063s]\n",
      "07/12/2023 18:15:41 - INFO - elasticsearch -   POST http://localhost:9200/_bulk?refresh=wait_for [status:200 request:1.086s]\n",
      "07/12/2023 18:15:42 - INFO - elasticsearch -   POST http://localhost:9200/_bulk?refresh=wait_for [status:200 request:1.066s]\n",
      "07/12/2023 18:15:43 - INFO - elasticsearch -   POST http://localhost:9200/_bulk?refresh=wait_for [status:200 request:1.107s]\n",
      "07/12/2023 18:15:44 - INFO - elasticsearch -   POST http://localhost:9200/_bulk?refresh=wait_for [status:200 request:1.092s]\n",
      "07/12/2023 18:15:45 - INFO - elasticsearch -   POST http://localhost:9200/_bulk?refresh=wait_for [status:200 request:1.076s]\n",
      "07/12/2023 18:15:47 - INFO - elasticsearch -   POST http://localhost:9200/_bulk?refresh=wait_for [status:200 request:1.061s]\n",
      "07/12/2023 18:15:48 - INFO - elasticsearch -   POST http://localhost:9200/_bulk?refresh=wait_for [status:200 request:1.056s]\n",
      "07/12/2023 18:15:49 - INFO - elasticsearch -   POST http://localhost:9200/_bulk?refresh=wait_for [status:200 request:1.058s]\n",
      "07/12/2023 18:15:50 - INFO - elasticsearch -   POST http://localhost:9200/_bulk?refresh=wait_for [status:200 request:1.053s]\n",
      "07/12/2023 18:15:51 - INFO - elasticsearch -   POST http://localhost:9200/_bulk?refresh=wait_for [status:200 request:1.053s]\n",
      "07/12/2023 18:15:52 - INFO - elasticsearch -   POST http://localhost:9200/_bulk?refresh=wait_for [status:200 request:1.050s]\n",
      "07/12/2023 18:15:53 - INFO - elasticsearch -   POST http://localhost:9200/_bulk?refresh=wait_for [status:200 request:1.055s]\n",
      "07/12/2023 18:15:54 - INFO - elasticsearch -   POST http://localhost:9200/_bulk?refresh=wait_for [status:200 request:1.057s]\n",
      "07/12/2023 18:15:55 - INFO - elasticsearch -   POST http://localhost:9200/_bulk?refresh=wait_for [status:200 request:1.055s]\n",
      "07/12/2023 18:15:56 - INFO - elasticsearch -   POST http://localhost:9200/_bulk?refresh=wait_for [status:200 request:1.049s]\n",
      "07/12/2023 18:15:57 - INFO - elasticsearch -   POST http://localhost:9200/_bulk?refresh=wait_for [status:200 request:1.060s]\n",
      "07/12/2023 18:15:58 - INFO - elasticsearch -   POST http://localhost:9200/_bulk?refresh=wait_for [status:200 request:1.044s]\n",
      "07/12/2023 18:15:59 - INFO - elasticsearch -   POST http://localhost:9200/_bulk?refresh=wait_for [status:200 request:1.045s]\n",
      "07/12/2023 18:16:01 - INFO - elasticsearch -   POST http://localhost:9200/_bulk?refresh=wait_for [status:200 request:1.058s]\n",
      "07/12/2023 18:16:02 - INFO - elasticsearch -   POST http://localhost:9200/_bulk?refresh=wait_for [status:200 request:1.054s]\n",
      "07/12/2023 18:16:03 - INFO - elasticsearch -   POST http://localhost:9200/_bulk?refresh=wait_for [status:200 request:1.046s]\n",
      "07/12/2023 18:16:04 - INFO - elasticsearch -   POST http://localhost:9200/_bulk?refresh=wait_for [status:200 request:1.050s]\n",
      "07/12/2023 18:16:05 - INFO - elasticsearch -   POST http://localhost:9200/_bulk?refresh=wait_for [status:200 request:1.052s]\n",
      "07/12/2023 18:16:06 - INFO - elasticsearch -   POST http://localhost:9200/_bulk?refresh=wait_for [status:200 request:1.055s]\n",
      "07/12/2023 18:16:07 - INFO - elasticsearch -   POST http://localhost:9200/_bulk?refresh=wait_for [status:200 request:1.061s]\n",
      "07/12/2023 18:16:08 - INFO - elasticsearch -   POST http://localhost:9200/_bulk?refresh=wait_for [status:200 request:1.043s]\n",
      "07/12/2023 18:16:09 - INFO - elasticsearch -   POST http://localhost:9200/_bulk?refresh=wait_for [status:200 request:1.056s]\n",
      "07/12/2023 18:16:10 - INFO - elasticsearch -   POST http://localhost:9200/_bulk?refresh=wait_for [status:200 request:1.060s]\n",
      "07/12/2023 18:16:11 - INFO - elasticsearch -   POST http://localhost:9200/_bulk?refresh=wait_for [status:200 request:1.068s]\n",
      "07/12/2023 18:16:12 - INFO - elasticsearch -   POST http://localhost:9200/_bulk?refresh=wait_for [status:200 request:1.055s]\n",
      "07/12/2023 18:16:13 - INFO - elasticsearch -   POST http://localhost:9200/_bulk?refresh=wait_for [status:200 request:1.059s]\n",
      "07/12/2023 18:16:14 - INFO - elasticsearch -   POST http://localhost:9200/_bulk?refresh=wait_for [status:200 request:1.044s]\n",
      "07/12/2023 18:16:16 - INFO - elasticsearch -   POST http://localhost:9200/_bulk?refresh=wait_for [status:200 request:1.053s]\n",
      "07/12/2023 18:16:17 - INFO - elasticsearch -   POST http://localhost:9200/_bulk?refresh=wait_for [status:200 request:1.062s]\n",
      "07/12/2023 18:16:18 - INFO - elasticsearch -   POST http://localhost:9200/_bulk?refresh=wait_for [status:200 request:1.045s]\n",
      "07/12/2023 18:16:19 - INFO - elasticsearch -   POST http://localhost:9200/_bulk?refresh=wait_for [status:200 request:1.037s]\n",
      "07/12/2023 18:16:20 - INFO - elasticsearch -   POST http://localhost:9200/_bulk?refresh=wait_for [status:200 request:1.048s]\n",
      "07/12/2023 18:16:21 - INFO - elasticsearch -   POST http://localhost:9200/_bulk?refresh=wait_for [status:200 request:1.045s]\n",
      "07/12/2023 18:16:22 - INFO - elasticsearch -   POST http://localhost:9200/_bulk?refresh=wait_for [status:200 request:1.050s]\n",
      "07/12/2023 18:16:23 - INFO - elasticsearch -   POST http://localhost:9200/_bulk?refresh=wait_for [status:200 request:1.057s]\n",
      "07/12/2023 18:16:24 - INFO - elasticsearch -   POST http://localhost:9200/_bulk?refresh=wait_for [status:200 request:1.058s]\n",
      "07/12/2023 18:16:25 - INFO - elasticsearch -   POST http://localhost:9200/_bulk?refresh=wait_for [status:200 request:1.050s]\n",
      "07/12/2023 18:16:26 - INFO - elasticsearch -   POST http://localhost:9200/_bulk?refresh=wait_for [status:200 request:1.073s]\n",
      "07/12/2023 18:16:27 - INFO - elasticsearch -   POST http://localhost:9200/_bulk?refresh=wait_for [status:200 request:1.046s]\n",
      "07/12/2023 18:16:28 - INFO - elasticsearch -   POST http://localhost:9200/_bulk?refresh=wait_for [status:200 request:1.044s]\n",
      "07/12/2023 18:16:30 - INFO - elasticsearch -   POST http://localhost:9200/_bulk?refresh=wait_for [status:200 request:1.049s]\n",
      "07/12/2023 18:16:31 - INFO - elasticsearch -   POST http://localhost:9200/_bulk?refresh=wait_for [status:200 request:1.049s]\n",
      "07/12/2023 18:16:32 - INFO - elasticsearch -   POST http://localhost:9200/_bulk?refresh=wait_for [status:200 request:1.044s]\n",
      "07/12/2023 18:16:33 - INFO - elasticsearch -   POST http://localhost:9200/_bulk?refresh=wait_for [status:200 request:1.048s]\n",
      "07/12/2023 18:16:34 - INFO - elasticsearch -   POST http://localhost:9200/_bulk?refresh=wait_for [status:200 request:1.049s]\n",
      "07/12/2023 18:16:35 - INFO - elasticsearch -   POST http://localhost:9200/_bulk?refresh=wait_for [status:200 request:1.053s]\n",
      "07/12/2023 18:16:36 - INFO - elasticsearch -   POST http://localhost:9200/_bulk?refresh=wait_for [status:200 request:1.051s]\n",
      "07/12/2023 18:16:37 - INFO - elasticsearch -   POST http://localhost:9200/_bulk?refresh=wait_for [status:200 request:1.061s]\n",
      "07/12/2023 18:16:38 - INFO - elasticsearch -   POST http://localhost:9200/_bulk?refresh=wait_for [status:200 request:1.050s]\n",
      "07/12/2023 18:16:39 - INFO - elasticsearch -   POST http://localhost:9200/_bulk?refresh=wait_for [status:200 request:1.051s]\n",
      "07/12/2023 18:16:40 - INFO - elasticsearch -   POST http://localhost:9200/_bulk?refresh=wait_for [status:200 request:1.052s]\n",
      "07/12/2023 18:16:41 - INFO - elasticsearch -   POST http://localhost:9200/_bulk?refresh=wait_for [status:200 request:1.061s]\n",
      "07/12/2023 18:16:42 - INFO - elasticsearch -   POST http://localhost:9200/_bulk?refresh=wait_for [status:200 request:1.056s]\n",
      "07/12/2023 18:16:43 - INFO - elasticsearch -   POST http://localhost:9200/_bulk?refresh=wait_for [status:200 request:1.057s]\n",
      "07/12/2023 18:16:45 - INFO - elasticsearch -   POST http://localhost:9200/_bulk?refresh=wait_for [status:200 request:1.049s]\n",
      "07/12/2023 18:16:46 - INFO - elasticsearch -   POST http://localhost:9200/_bulk?refresh=wait_for [status:200 request:1.060s]\n",
      "07/12/2023 18:16:47 - INFO - elasticsearch -   POST http://localhost:9200/_bulk?refresh=wait_for [status:200 request:1.049s]\n",
      "07/12/2023 18:16:48 - INFO - elasticsearch -   POST http://localhost:9200/_bulk?refresh=wait_for [status:200 request:1.042s]\n",
      "07/12/2023 18:16:49 - INFO - elasticsearch -   POST http://localhost:9200/_bulk?refresh=wait_for [status:200 request:1.041s]\n",
      "07/12/2023 18:16:50 - INFO - elasticsearch -   POST http://localhost:9200/_bulk?refresh=wait_for [status:200 request:1.035s]\n"
     ]
    }
   ],
   "source": [
    "final_dicts=[]\n",
    "for each in df_dict:\n",
    "    temp={}\n",
    "    temp['text'] = each.pop('body_text')\n",
    "    temp['meta'] = each\n",
    "    final_dicts.append(temp)\n",
    "document_store.write_documents(final_dicts, batch_size=100)"
   ]
  },
  {
   "cell_type": "code",
   "execution_count": null,
   "metadata": {},
   "outputs": [],
   "source": []
  }
 ],
 "metadata": {
  "kernelspec": {
   "display_name": "Python 3",
   "language": "python",
   "name": "python3"
  },
  "language_info": {
   "codemirror_mode": {
    "name": "ipython",
    "version": 3
   },
   "file_extension": ".py",
   "mimetype": "text/x-python",
   "name": "python",
   "nbconvert_exporter": "python",
   "pygments_lexer": "ipython3",
   "version": "3.8.0"
  },
  "orig_nbformat": 4
 },
 "nbformat": 4,
 "nbformat_minor": 2
}
